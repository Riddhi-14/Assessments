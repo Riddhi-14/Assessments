{
  "nbformat": 4,
  "nbformat_minor": 0,
  "metadata": {
    "colab": {
      "provenance": [],
      "authorship_tag": "ABX9TyMKf2LlxHFXWZE5DpbtChyH",
      "include_colab_link": true
    },
    "kernelspec": {
      "name": "python3",
      "display_name": "Python 3"
    },
    "language_info": {
      "name": "python"
    }
  },
  "cells": [
    {
      "cell_type": "markdown",
      "metadata": {
        "id": "view-in-github",
        "colab_type": "text"
      },
      "source": [
        "<a href=\"https://colab.research.google.com/github/Riddhi-14/Assessments/blob/main/CNNassignment.ipynb\" target=\"_parent\"><img src=\"https://colab.research.google.com/assets/colab-badge.svg\" alt=\"Open In Colab\"/></a>"
      ]
    },
    {
      "cell_type": "code",
      "execution_count": 5,
      "metadata": {
        "colab": {
          "base_uri": "https://localhost:8080/"
        },
        "id": "Qqwjc8v3MJzF",
        "outputId": "65e1833e-2c85-46f5-daa3-60f33d10a3c5"
      },
      "outputs": [
        {
          "output_type": "stream",
          "name": "stdout",
          "text": [
            "Downloading data from https://storage.googleapis.com/tensorflow/tf-keras-datasets/mnist.npz\n",
            "11490434/11490434 [==============================] - 1s 0us/step\n",
            "Epoch 1/5\n",
            "1875/1875 [==============================] - 8s 4ms/step - loss: 0.2700 - accuracy: 0.9222 - val_loss: 0.1433 - val_accuracy: 0.9563\n",
            "Epoch 2/5\n",
            "1875/1875 [==============================] - 8s 4ms/step - loss: 0.1249 - accuracy: 0.9623 - val_loss: 0.1046 - val_accuracy: 0.9690\n",
            "Epoch 3/5\n",
            "1875/1875 [==============================] - 12s 6ms/step - loss: 0.0868 - accuracy: 0.9740 - val_loss: 0.0958 - val_accuracy: 0.9697\n",
            "Epoch 4/5\n",
            "1875/1875 [==============================] - 12s 7ms/step - loss: 0.0671 - accuracy: 0.9795 - val_loss: 0.0815 - val_accuracy: 0.9745\n",
            "Epoch 5/5\n",
            "1875/1875 [==============================] - 7s 4ms/step - loss: 0.0526 - accuracy: 0.9837 - val_loss: 0.0797 - val_accuracy: 0.9757\n",
            "313/313 [==============================] - 1s 3ms/step - loss: 0.4254 - accuracy: 0.8496\n",
            "Accuracy on Noisy Test Data: 0.8496000170707703\n"
          ]
        }
      ],
      "source": [
        "import numpy as np\n",
        "from keras.datasets import mnist\n",
        "from keras.models import Sequential\n",
        "from keras.layers import Dense, Flatten, GaussianNoise\n",
        "from keras.utils import to_categorical\n",
        "\n",
        "# Load MNIST dataset\n",
        "(train_images, train_labels), (test_images, test_labels) = mnist.load_data()\n",
        "\n",
        "# Normalize pixel values to be between 0 and 1\n",
        "train_images, test_images = train_images / 255.0, test_images / 255.0\n",
        "\n",
        "# Convert labels to categorical one-hot encoding\n",
        "train_labels = to_categorical(train_labels, 10)\n",
        "test_labels = to_categorical(test_labels, 10)\n",
        "\n",
        "# Build a simple neural network with GaussianNoise for noise during training\n",
        "model = Sequential()\n",
        "model.add(Flatten(input_shape=(28, 28)))\n",
        "model.add(Dense(128, activation='relu'))\n",
        "model.add(GaussianNoise(0.2))  # Adding noise during training\n",
        "model.add(Dense(10, activation='softmax'))\n",
        "\n",
        "# Compile the model\n",
        "model.compile(optimizer='adam', loss='categorical_crossentropy', metrics=['accuracy'])\n",
        "\n",
        "# Train the model\n",
        "model.fit(train_images, train_labels, epochs=5, validation_data=(test_images, test_labels))\n",
        "\n",
        "# Add noise to the test data\n",
        "noise_factor = 0.2\n",
        "test_images_noisy = test_images + noise_factor * np.random.normal(loc=0.0, scale=1.0, size=test_images.shape)\n",
        "test_images_noisy = np.clip(test_images_noisy, 0., 1.)\n",
        "\n",
        "# Evaluate the model on noisy test data\n",
        "loss, accuracy = model.evaluate(test_images_noisy, test_labels)\n",
        "print(f\"Accuracy on Noisy Test Data: {accuracy}\")\n",
        "\n"
      ]
    },
    {
      "cell_type": "code",
      "source": [
        "from keras.datasets import cifar10\n",
        "\n",
        "# Load CIFAR-10 dataset\n",
        "(train_images, train_labels), (test_images, test_labels) = cifar10.load_data()\n",
        "\n",
        "# Rest of the code remains the same as in the MNIST example\n"
      ],
      "metadata": {
        "id": "pBJnx7YhQAWj",
        "outputId": "7a411b05-36ba-46a3-96ac-fe237b1632e3",
        "colab": {
          "base_uri": "https://localhost:8080/"
        }
      },
      "execution_count": 6,
      "outputs": [
        {
          "output_type": "stream",
          "name": "stdout",
          "text": [
            "Downloading data from https://www.cs.toronto.edu/~kriz/cifar-10-python.tar.gz\n",
            "170498071/170498071 [==============================] - 6s 0us/step\n"
          ]
        }
      ]
    },
    {
      "cell_type": "code",
      "source": [
        "from keras.datasets import cifar10\n",
        "from keras.models import Sequential\n",
        "from keras.layers import Dense, Flatten\n",
        "from keras.utils import to_categorical  # Import to_categorical\n",
        "\n",
        "# Load CIFAR-10 dataset\n",
        "(train_images, train_labels), (test_images, test_labels) = cifar10.load_data()\n",
        "\n",
        "# Normalize pixel values to be between 0 and 1\n",
        "train_images, test_images = train_images / 255.0, test_images / 255.0\n",
        "\n",
        "# Convert labels to categorical one-hot encoding\n",
        "train_labels = to_categorical(train_labels, 10)\n",
        "test_labels = to_categorical(test_labels, 10)\n",
        "\n",
        "\n",
        "# Build a simple neural network without pooling and an additional convolutional layer\n",
        "model_without_pooling = Sequential()\n",
        "model_without_pooling.add(Conv2D(32, (3, 3), activation='relu', input_shape=(32, 32, 3)))\n",
        "model_without_pooling.add(Flatten())\n",
        "model_without_pooling.add(Dense(128, activation='relu'))\n",
        "model_without_pooling.add(Dense(10, activation='softmax'))\n",
        "\n",
        "# Compile the model\n",
        "model_without_pooling.compile(optimizer='adam', loss='categorical_crossentropy', metrics=['accuracy'])\n",
        "\n",
        "# Train the model\n",
        "model_without_pooling.fit(train_images, train_labels, epochs=5, validation_data=(test_images, test_labels))\n",
        "\n",
        "# Evaluate the model on test data\n",
        "loss, accuracy = model_without_pooling.evaluate(test_images, test_labels)\n",
        "print(f\"Accuracy without Pooling: {accuracy}\")\n"
      ],
      "metadata": {
        "id": "P1MRu8ZrQKmL",
        "outputId": "9a3793c5-8918-4965-882c-6e56bd20568a",
        "colab": {
          "base_uri": "https://localhost:8080/"
        }
      },
      "execution_count": 5,
      "outputs": [
        {
          "output_type": "stream",
          "name": "stdout",
          "text": [
            "Epoch 1/5\n",
            "1563/1563 [==============================] - 116s 74ms/step - loss: 1.4764 - accuracy: 0.4746 - val_loss: 1.3081 - val_accuracy: 0.5345\n",
            "Epoch 2/5\n",
            "1563/1563 [==============================] - 107s 69ms/step - loss: 1.1889 - accuracy: 0.5831 - val_loss: 1.2468 - val_accuracy: 0.5592\n",
            "Epoch 3/5\n",
            "1563/1563 [==============================] - 105s 67ms/step - loss: 1.0504 - accuracy: 0.6312 - val_loss: 1.2274 - val_accuracy: 0.5708\n",
            "Epoch 4/5\n",
            "1563/1563 [==============================] - 103s 66ms/step - loss: 0.9350 - accuracy: 0.6689 - val_loss: 1.2224 - val_accuracy: 0.5804\n",
            "Epoch 5/5\n",
            "1563/1563 [==============================] - 109s 70ms/step - loss: 0.8228 - accuracy: 0.7114 - val_loss: 1.2328 - val_accuracy: 0.5880\n",
            "313/313 [==============================] - 4s 12ms/step - loss: 1.2328 - accuracy: 0.5880\n",
            "Accuracy without Pooling: 0.5879999995231628\n"
          ]
        }
      ]
    }
  ]
}